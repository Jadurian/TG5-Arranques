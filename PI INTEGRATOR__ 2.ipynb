{
 "cells": [
  {
   "cell_type": "code",
   "execution_count": 2,
   "metadata": {},
   "outputs": [],
   "source": [
    "import pandas as pd\n",
    "from pandas import ExcelWriter\n",
    "\n",
    "import numpy as np\n",
    "import os\n",
    "import io\n",
    "\n",
    "import plotly.graph_objects as go\n",
    "import plotly.express as px\n",
    "from plotly.subplots import make_subplots\n",
    "import os\n",
    "import warnings\n",
    " \n",
    "warnings.filterwarnings('ignore')\n",
    "\n",
    "#import dash\n",
    "#from dash import html, Dash, dash_table, dcc, callback, Output, Input\n",
    "#import dash_bootstrap_components as dibc\n",
    "\n",
    "\n",
    "from base64 import b64encode\n",
    "\n",
    "import re"
   ]
  },
  {
   "cell_type": "code",
   "execution_count": 7,
   "metadata": {},
   "outputs": [
    {
     "name": "stdout",
     "output_type": "stream",
     "text": [
      "Index(['ARRANQUE', 'CIERRE INTERRUPTOR', 'INICIO (-0,5 hs)', 'FIN (+2 hs)'], dtype='object')\n"
     ]
    }
   ],
   "source": [
    "df_arranques = pd.read_excel(r'data\\csv\\CIERRE_INTERRUPTOR 1.xlsx')\n",
    "column_names = df_arranques.columns\n",
    "print(column_names)  # Output: Index(['Date', 'Price', 'Volume'], dtype='object')"
   ]
  },
  {
   "cell_type": "code",
   "execution_count": 10,
   "metadata": {},
   "outputs": [
    {
     "name": "stdout",
     "output_type": "stream",
     "text": [
      "DataFrame: TG5-LL-BNA5.BNA_XE8132A_PT_4\n",
      "DataFrame: TG5-LL-BNA5.BNA_XE8134A_2\n",
      "DataFrame: TG5-LL-BNA5.BNA_XE8134B_2\n",
      "DataFrame: TG5-LL-BNA5.BNA_XE8134C_2\n",
      "DataFrame: TG5-LL-BNA5.BNA_XE8135A_2\n",
      "DataFrame: TG5-LL-BNA5.BNA_XE8135B_2\n",
      "DataFrame: TG5-LL-BNA5.BNA_XE8135C_2\n",
      "DataFrame: TG5-LL-BNB5.BNB_XE8131B_PT_4\n",
      "DataFrame: TG5-LL-BNB5.BNB_XE8133B_PT_4\n",
      "DataFrame: TG5-LL-BNC5.BNC_XE8138X1_1\n",
      "DataFrame: TG5-LL-BNC5.BNC_XE8138Y1_1\n",
      "DataFrame: TG5-LL-BNC5.BNC_XE8139X_1\n",
      "DataFrame: TG5-LL-BNC5.BNC_XE8139Y_1\n"
     ]
    }
   ],
   "source": [
    "# Crear un diccionario para almacenar los DataFrames\n",
    "dataframes = {}\n",
    "folder_path = fr\"data\\csv\"\n",
    "\n",
    "# Iterar sobre los archivos en la carpeta\n",
    "for filename in os.listdir(folder_path):\n",
    "    if filename.endswith('.csv'):\n",
    "        file_path = os.path.join(folder_path, filename)\n",
    "        df_name = filename[:-4]  # Nombre del DataFrame basado en el nombre del archivo\n",
    "        dataframes[df_name] = pd.read_csv(file_path, names=['*TG05*', 'Estampa de Tiempo', 'Variable'])\n",
    "\n",
    "# Acceder a los DataFrames generados\n",
    "for name, df in dataframes.items():\n",
    "    print(f'DataFrame: {name}')"
   ]
  },
  {
   "cell_type": "code",
   "execution_count": 11,
   "metadata": {},
   "outputs": [],
   "source": [
    "# Encontrar el rango de fechas común\n",
    "min_date = dataframes[\"TG5-LL-BNA5.BNA_XE8132A_PT_4\"]['Estampa de Tiempo'].min()\n",
    "max_date = dataframes[\"TG5-LL-BNA5.BNA_XE8132A_PT_4\"]['Estampa de Tiempo'].max()\n",
    "# Crear un índice de tiempo común con intervalos de 1 segundo\n",
    "time_index = pd.date_range(start=min_date, end=max_date, freq='S')"
   ]
  },
  {
   "cell_type": "code",
   "execution_count": 12,
   "metadata": {},
   "outputs": [],
   "source": [
    "# Hacer datetime la estampa de tiempo\n",
    "for name, df in dataframes.items():\n",
    "    df['Estampa de Tiempo']=pd.to_datetime(df['Estampa de Tiempo'])"
   ]
  },
  {
   "cell_type": "code",
   "execution_count": 13,
   "metadata": {},
   "outputs": [],
   "source": [
    "# Supongamos que tu diccionario de dataframes se llama `dataframes_dict`\n",
    "\n",
    "for key, df in dataframes.items():\n",
    "    # Asignar la columna 'Estampa de Tiempo' como índice\n",
    "    df.set_index('Estampa de Tiempo', inplace=True)\n",
    "\n",
    "# Ahora cada dataframe en el diccionario tiene la columna 'Estampa de Tiempo' como índice"
   ]
  },
  {
   "cell_type": "code",
   "execution_count": 14,
   "metadata": {},
   "outputs": [],
   "source": [
    "import pandas as pd\n",
    "\n",
    "# Supongamos que `dataframes_dict` es tu diccionario de dataframes \n",
    "# y `time_index` es un pd.DatetimeIndex con el nuevo índice de tiempo.\n",
    "\n",
    "for key, df in dataframes.items():\n",
    "    # Eliminar duplicados en el índice 'Estampa de Tiempo'\n",
    "    df = df[~df.index.duplicated(keep='first')]\n",
    "    \n",
    "    # Reindexar el dataframe usando el nuevo 'time_index'\n",
    "    df_reindexed = df.reindex(time_index)\n",
    "    \n",
    "    # Interpolar valores en la columna 'Variable'\n",
    "    df_reindexed['Variable'] = df_reindexed['Variable'].interpolate(method='time')\n",
    "    \n",
    "    # Volver a llenar la columna 'TG05' con el valor constante original\n",
    "    df_reindexed['*TG05*'] = df['*TG05*'].iloc[0]\n",
    "    \n",
    "    # Asignar el dataframe modificado de nuevo al diccionario\n",
    "    dataframes[key] = df_reindexed"
   ]
  },
  {
   "cell_type": "code",
   "execution_count": 15,
   "metadata": {},
   "outputs": [
    {
     "data": {
      "text/html": [
       "<div>\n",
       "<style scoped>\n",
       "    .dataframe tbody tr th:only-of-type {\n",
       "        vertical-align: middle;\n",
       "    }\n",
       "\n",
       "    .dataframe tbody tr th {\n",
       "        vertical-align: top;\n",
       "    }\n",
       "\n",
       "    .dataframe thead th {\n",
       "        text-align: right;\n",
       "    }\n",
       "</style>\n",
       "<table border=\"1\" class=\"dataframe\">\n",
       "  <thead>\n",
       "    <tr style=\"text-align: right;\">\n",
       "      <th></th>\n",
       "      <th>*TG05*</th>\n",
       "      <th>Variable</th>\n",
       "    </tr>\n",
       "  </thead>\n",
       "  <tbody>\n",
       "    <tr>\n",
       "      <th>2024-01-31 03:00:01</th>\n",
       "      <td>TG05 Estructura posterior Central BNA 8132 PT</td>\n",
       "      <td>0.148773</td>\n",
       "    </tr>\n",
       "    <tr>\n",
       "      <th>2024-01-31 03:00:02</th>\n",
       "      <td>TG05 Estructura posterior Central BNA 8132 PT</td>\n",
       "      <td>0.202179</td>\n",
       "    </tr>\n",
       "    <tr>\n",
       "      <th>2024-01-31 03:00:03</th>\n",
       "      <td>TG05 Estructura posterior Central BNA 8132 PT</td>\n",
       "      <td>0.240326</td>\n",
       "    </tr>\n",
       "    <tr>\n",
       "      <th>2024-01-31 03:00:04</th>\n",
       "      <td>TG05 Estructura posterior Central BNA 8132 PT</td>\n",
       "      <td>0.217438</td>\n",
       "    </tr>\n",
       "    <tr>\n",
       "      <th>2024-01-31 03:00:05</th>\n",
       "      <td>TG05 Estructura posterior Central BNA 8132 PT</td>\n",
       "      <td>NaN</td>\n",
       "    </tr>\n",
       "  </tbody>\n",
       "</table>\n",
       "</div>"
      ],
      "text/plain": [
       "                                                            *TG05*  Variable\n",
       "2024-01-31 03:00:01  TG05 Estructura posterior Central BNA 8132 PT  0.148773\n",
       "2024-01-31 03:00:02  TG05 Estructura posterior Central BNA 8132 PT  0.202179\n",
       "2024-01-31 03:00:03  TG05 Estructura posterior Central BNA 8132 PT  0.240326\n",
       "2024-01-31 03:00:04  TG05 Estructura posterior Central BNA 8132 PT  0.217438\n",
       "2024-01-31 03:00:05  TG05 Estructura posterior Central BNA 8132 PT       NaN"
      ]
     },
     "execution_count": 15,
     "metadata": {},
     "output_type": "execute_result"
    }
   ],
   "source": [
    "import pandas as pd\n",
    "\n",
    "# Supongamos que dataframes_dict es tu diccionario de dataframes\n",
    "\n",
    "# Paso 1: Unificar todos los dataframes en uno solo\n",
    "df_unificado = pd.concat(dataframes.values())\n",
    "\n",
    "# Paso 2: Crear el diccionario de equivalencias para cambiar los nombres en la columna TG05\n",
    "equivalencias = {\n",
    "    'LL-BNA5.BNA_XE8132A_PT_4': 'TG05 Estructura posterior Central BNA 8132 PT',\n",
    "    'LL-BNA5.BNA_XE8134A_2': 'TG05 Cojinete de alineación J3 8134A',\n",
    "    'LL-BNA5.BNA_XE8134B_2': 'TG05 Cojinete de alineación J3 8134B',\n",
    "    'LL-BNA5.BNA_XE8134C_2': 'TG05 Cojinete de alineación J3 8134C',\n",
    "    'LL-BNA5.BNA_XE8135A_2': 'TG05 Cojinete de alineación J4 8135A',\n",
    "    'LL-BNA5.BNA_XE8135B_2': 'TG05 Cojinete de alineación J4 8135B',\n",
    "    'LL-BNA5.BNA_XE8135C_2': 'TG05 Cojinete de alineación J4 8135C',\n",
    "    'LL-BNB5.BNB_XE8131B_PT_4': 'TG05 Estructura Frontal Central  BNB 8131 PT',\n",
    "    'LL-BNB5.BNB_XE8133B_PT_4': 'TG05 IPT BNB 8133 PT',\n",
    "    'LL-BNC5.BNC_XE8138X1_1': 'TG05 Cojinete de alineación J3 Prox X',\n",
    "    'LL-BNC5.BNC_XE8138Y1_1': 'TG05 Cojinete de alineación J3 Prox Y',\n",
    "    'LL-BNC5.BNC_XE8139X_1': 'TG05 Cojinete de alineación J4 Prox X'\n",
    "}\n",
    "\n",
    "# Invertir el diccionario de equivalencias para el reemplazo\n",
    "#equivalencias_invertidas = {v: k for k, v in equivalencias.items()}\n",
    "\n",
    "# Paso 3: Reemplazar los valores en la columna TG05 utilizando las equivalencias\n",
    "df_unificado['*TG05*'] = df_unificado['*TG05*'].replace(equivalencias)\n",
    "\n",
    "# Mostrar el dataframe unificado con los nuevos valores en la columna TG05\n",
    "df_unificado.head()"
   ]
  },
  {
   "cell_type": "code",
   "execution_count": 16,
   "metadata": {},
   "outputs": [
    {
     "data": {
      "text/plain": [
       "DatetimeIndex(['2024-01-31 03:00:01', '2024-01-31 03:00:02',\n",
       "               '2024-01-31 03:00:03', '2024-01-31 03:00:04',\n",
       "               '2024-01-31 03:00:05', '2024-01-31 03:00:06',\n",
       "               '2024-01-31 03:00:07', '2024-01-31 03:00:08',\n",
       "               '2024-01-31 03:00:09', '2024-01-31 03:00:10',\n",
       "               ...\n",
       "               '2024-08-07 19:36:15', '2024-08-07 19:36:16',\n",
       "               '2024-08-07 19:36:17', '2024-08-07 19:36:18',\n",
       "               '2024-08-07 19:36:19', '2024-08-07 19:36:20',\n",
       "               '2024-08-07 19:36:21', '2024-08-07 19:36:22',\n",
       "               '2024-08-07 19:36:23', '2024-08-07 19:36:24'],\n",
       "              dtype='datetime64[ns]', length=213061992, freq=None)"
      ]
     },
     "metadata": {},
     "output_type": "display_data"
    }
   ],
   "source": [
    "display(df_unificado.index)"
   ]
  },
  {
   "cell_type": "code",
   "execution_count": 17,
   "metadata": {},
   "outputs": [],
   "source": [
    "# Crear una lista de máscaras y DataFrames filtrados con una columna adicional\n",
    "df_filtrados = []\n",
    "for i, (inicio, fin) in enumerate(zip(df_arranques['INICIO (-0,5 hs)'], df_arranques['FIN (+2 hs)'])):\n",
    "    mask = (df_unificado.index >= inicio) & (df_unificado.index <= fin)\n",
    "    df_filtrado = df_unificado[mask].copy()  # Crear una copia para evitar modificaciones in situ\n",
    "    df_filtrado['Número de Arranque'] = i + 1  # Agregar la columna con el número de arranque\n",
    "    df_filtrados.append(df_filtrado)\n",
    "\n",
    "# Concatenar los DataFrames filtrados sin ignorar el índice original\n",
    "df_final = pd.concat(df_filtrados)  # El índice datetime original se mantendrá\n"
   ]
  },
  {
   "cell_type": "code",
   "execution_count": null,
   "metadata": {},
   "outputs": [],
   "source": [
    "# Set the index as a new column named \"TimeStamp\"\n",
    "df_final['TimeStamp'] = df_final.index\n",
    "df_final"
   ]
  },
  {
   "cell_type": "code",
   "execution_count": 18,
   "metadata": {},
   "outputs": [],
   "source": [
    "df_final.to_csv('dataframe_tg05_filtrado_arranques_FINAL.csv', index=True)"
   ]
  },
  {
   "cell_type": "code",
   "execution_count": 25,
   "metadata": {},
   "outputs": [
    {
     "data": {
      "text/plain": [
       "Index(['Unnamed: 0', '*TG05*', 'Variable', 'Número de Arranque'], dtype='object')"
      ]
     },
     "execution_count": 25,
     "metadata": {},
     "output_type": "execute_result"
    }
   ],
   "source": [
    "df_final.columns"
   ]
  },
  {
   "cell_type": "markdown",
   "metadata": {},
   "source": [
    "LEO DATAFRAME FINAL"
   ]
  },
  {
   "cell_type": "code",
   "execution_count": 21,
   "metadata": {},
   "outputs": [],
   "source": [
    "df_final = pd.read_csv('dataframe_tg05_filtrado_arranques_FINAL.csv')"
   ]
  },
  {
   "cell_type": "code",
   "execution_count": 26,
   "metadata": {},
   "outputs": [],
   "source": [
    "df_final.rename(columns={'Unnamed: 0': 'Timestamp'}, inplace=True)"
   ]
  },
  {
   "cell_type": "code",
   "execution_count": 27,
   "metadata": {},
   "outputs": [
    {
     "name": "stdout",
     "output_type": "stream",
     "text": [
      "<class 'pandas.core.frame.DataFrame'>\n",
      "RangeIndex: 11116235 entries, 0 to 11116234\n",
      "Data columns (total 4 columns):\n",
      " #   Column              Dtype  \n",
      "---  ------              -----  \n",
      " 0   Timestamp           object \n",
      " 1   *TG05*              object \n",
      " 2   Variable            float64\n",
      " 3   Número de Arranque  int64  \n",
      "dtypes: float64(1), int64(1), object(2)\n",
      "memory usage: 339.2+ MB\n"
     ]
    }
   ],
   "source": [
    "df_final.info()"
   ]
  },
  {
   "cell_type": "code",
   "execution_count": 28,
   "metadata": {},
   "outputs": [
    {
     "name": "stdout",
     "output_type": "stream",
     "text": [
      "             Timestamp                                         *TG05*  \\\n",
      "0  2024-02-04 14:26:37  TG05 Estructura posterior Central BNA 8132 PT   \n",
      "1  2024-02-04 14:26:38  TG05 Estructura posterior Central BNA 8132 PT   \n",
      "2  2024-02-04 14:26:39  TG05 Estructura posterior Central BNA 8132 PT   \n",
      "3  2024-02-04 14:26:40  TG05 Estructura posterior Central BNA 8132 PT   \n",
      "4  2024-02-04 14:26:41  TG05 Estructura posterior Central BNA 8132 PT   \n",
      "\n",
      "   Variable  Número de Arranque  \n",
      "0       NaN                   1  \n",
      "1       NaN                   1  \n",
      "2       NaN                   1  \n",
      "3       NaN                   1  \n",
      "4       NaN                   1  \n"
     ]
    }
   ],
   "source": [
    "# Lista de nombres de variables a filtrar\n",
    "nombres_variables = [\n",
    "'TG05 Estructura Frontal Central  BNA 8131 PT',\n",
    "'TG05 Estructura posterior Central BNA 8132 PT',\n",
    "'TG05 BNB 8133 PT',\n",
    "'TG05 IPT BNB 8133 PT',\n",
    "'TG05 Cojinete de alineación J3 8134A',\n",
    "'TG05 Cojinete de alineación J3 8134B',\n",
    "'TG05 Cojinete de alineación J3 8134C',    \n",
    "'TG05 Cojinete de alineación J3 Prox X',\n",
    "'TG05 Cojinete de alineación J3 Prox Y',\n",
    "'TG05 Cojinete de alineación J4 8135A',\n",
    "'TG05 Cojinete de alineación J4 8135B',\n",
    "'TG05 Cojinete de alineación J4 8135C',\n",
    "'TG05 Cojinete de alineación J4 Prox X',\n",
    "'TG05 Cojinete de alineación J4 Prox Y',\n",
    "]\n",
    " \n",
    "# Filtrar el dataframe\n",
    "df_final= df_final[df_final['*TG05*'].isin(nombres_variables)]\n",
    " \n",
    "# Mostrar las primeras filas del dataframe filtrado para verificar\n",
    "print(df_final.head())"
   ]
  },
  {
   "cell_type": "markdown",
   "metadata": {},
   "source": [
    "FILTRO ARRANQUES CON FALLA DE INSTRUMENTO"
   ]
  },
  {
   "cell_type": "code",
   "execution_count": 29,
   "metadata": {},
   "outputs": [],
   "source": [
    "df_final = df_final[df_final['Número de Arranque'] != 42]\n",
    "df_final = df_final[~((df_final['Número de Arranque'] >= 24) & \n",
    "                       (df_final['Número de Arranque'] <= 32) & \n",
    "                       (df_final['*TG05*'] == 'TG05 Cojinete de alineación J3 Prox X'))]\n",
    "df_final = df_final[~((df_final['Número de Arranque'] >= 33) & \n",
    "                       (df_final['Número de Arranque'] <= 43) & \n",
    "                       (df_final['*TG05*'] == 'TG05 Cojinete de alineación J3 Prox Y'))]\n",
    "\n"
   ]
  },
  {
   "cell_type": "code",
   "execution_count": 35,
   "metadata": {},
   "outputs": [
    {
     "name": "stdout",
     "output_type": "stream",
     "text": [
      "<class 'pandas.core.frame.DataFrame'>\n",
      "Index: 9136015 entries, 0 to 11107233\n",
      "Data columns (total 4 columns):\n",
      " #   Column              Dtype  \n",
      "---  ------              -----  \n",
      " 0   Timestamp           object \n",
      " 1   *TG05*              object \n",
      " 2   Variable            float64\n",
      " 3   Número de Arranque  int64  \n",
      "dtypes: float64(1), int64(1), object(2)\n",
      "memory usage: 348.5+ MB\n"
     ]
    }
   ],
   "source": [
    "df_final.info()"
   ]
  },
  {
   "cell_type": "code",
   "execution_count": 31,
   "metadata": {},
   "outputs": [
    {
     "name": "stdout",
     "output_type": "stream",
     "text": [
      "Archivo HTML guardado como 'figuras_vibraciones.html'\n"
     ]
    }
   ],
   "source": [
    "import plotly.express as px\n",
    "\n",
    "# Suponiendo que ya tienes el dataframe `df_final`\n",
    "\n",
    "# Lista de nombres únicos de variables en la columna TG05\n",
    "variables_vibracion = df_final['*TG05*'].unique()\n",
    "figuras = []\n",
    "\n",
    "# Iterar sobre cada variable de vibración y crear un gráfico\n",
    "for variable in variables_vibracion:\n",
    "    # Filtrar el dataframe para la variable actual\n",
    "    df_variable = df_final[df_final['*TG05*'] == variable]\n",
    "    \n",
    "    # Crear el gráfico de línea\n",
    "    fig = px.line(\n",
    "        df_variable,\n",
    "        x=df_variable[\"Timestamp\"],\n",
    "        y='Variable',\n",
    "        color='Número de Arranque',\n",
    "        title=f'Comportamiento de {variable} en cada arranque',\n",
    "        labels={'Numero_Arranque': 'Número de Arranque', 'Fecha': 'Tiempo', 'Variable': 'Vibración'},\n",
    "        markers=True\n",
    "    )\n",
    "\n",
    "    # Personalizar colores: si el Número de Arranque es 1, usar rojo\n",
    "    for trace in fig.data:\n",
    "        if trace.name == '1':  # Comparar con la cadena '1'\n",
    "            trace.line.color = 'red'\n",
    "        else:\n",
    "            trace.line.color = None  # Dejar el color predeterminado para los demás\n",
    "\n",
    "    # Actualizar layout\n",
    "    fig.update_layout(legend_title_text='Número de Arranque')\n",
    "    \n",
    "    # Añadir la figura a la lista\n",
    "    figuras.append(fig)\n",
    "\n",
    "# Exportar todas las figuras a un solo archivo HTML\n",
    "with open(\"figuras_vibraciones.html\", \"a\") as f:\n",
    "    for fig in figuras:\n",
    "        f.write(fig.to_html(full_html=False, include_plotlyjs='cdn'))\n",
    "        f.write('<br><hr><br>')  # Añadir una separación entre gráficos\n",
    "\n",
    "print(\"Archivo HTML guardado como 'figuras_vibraciones.html'\")"
   ]
  },
  {
   "cell_type": "code",
   "execution_count": 34,
   "metadata": {},
   "outputs": [
    {
     "ename": "TypeError",
     "evalue": "unsupported operand type(s) for -: 'str' and 'str'",
     "output_type": "error",
     "traceback": [
      "\u001b[1;31m---------------------------------------------------------------------------\u001b[0m",
      "\u001b[1;31mTypeError\u001b[0m                                 Traceback (most recent call last)",
      "File \u001b[1;32mc:\\Users\\jadurian\\Documents\\CDD\\TG5-Arranques\\.venv\\lib\\site-packages\\pandas\\core\\ops\\array_ops.py:218\u001b[0m, in \u001b[0;36m_na_arithmetic_op\u001b[1;34m(left, right, op, is_cmp)\u001b[0m\n\u001b[0;32m    217\u001b[0m \u001b[38;5;28;01mtry\u001b[39;00m:\n\u001b[1;32m--> 218\u001b[0m     result \u001b[38;5;241m=\u001b[39m \u001b[43mfunc\u001b[49m\u001b[43m(\u001b[49m\u001b[43mleft\u001b[49m\u001b[43m,\u001b[49m\u001b[43m \u001b[49m\u001b[43mright\u001b[49m\u001b[43m)\u001b[49m\n\u001b[0;32m    219\u001b[0m \u001b[38;5;28;01mexcept\u001b[39;00m \u001b[38;5;167;01mTypeError\u001b[39;00m:\n",
      "\u001b[1;31mTypeError\u001b[0m: unsupported operand type(s) for -: 'str' and 'str'",
      "\nDuring handling of the above exception, another exception occurred:\n",
      "\u001b[1;31mTypeError\u001b[0m                                 Traceback (most recent call last)",
      "Cell \u001b[1;32mIn[34], line 18\u001b[0m\n\u001b[0;32m     16\u001b[0m df_variable \u001b[38;5;241m=\u001b[39m df_variable\u001b[38;5;241m.\u001b[39msort_values(by\u001b[38;5;241m=\u001b[39m[\u001b[38;5;124m'\u001b[39m\u001b[38;5;124mNúmero de Arranque\u001b[39m\u001b[38;5;124m'\u001b[39m])\u001b[38;5;241m.\u001b[39msort_index()\n\u001b[0;32m     17\u001b[0m \u001b[38;5;66;03m#df_variable['Duración'] = df_variable.groupby('Número de Arranque').apply(lambda x: (x.index - x.index.min()).total_seconds())\u001b[39;00m\n\u001b[1;32m---> 18\u001b[0m df_variable[\u001b[38;5;124m'\u001b[39m\u001b[38;5;124mDuración\u001b[39m\u001b[38;5;124m'\u001b[39m] \u001b[38;5;241m=\u001b[39m \u001b[43mdf_variable\u001b[49m\u001b[38;5;241;43m.\u001b[39;49m\u001b[43mgroupby\u001b[49m\u001b[43m(\u001b[49m\u001b[38;5;124;43m'\u001b[39;49m\u001b[38;5;124;43mNúmero de Arranque\u001b[39;49m\u001b[38;5;124;43m'\u001b[39;49m\u001b[43m)\u001b[49m\u001b[43m[\u001b[49m\u001b[38;5;124;43m'\u001b[39;49m\u001b[38;5;124;43mTimestamp\u001b[39;49m\u001b[38;5;124;43m'\u001b[39;49m\u001b[43m]\u001b[49m\u001b[38;5;241;43m.\u001b[39;49m\u001b[43mtransform\u001b[49m\u001b[43m(\u001b[49m\u001b[38;5;28;43;01mlambda\u001b[39;49;00m\u001b[43m \u001b[49m\u001b[43mx\u001b[49m\u001b[43m:\u001b[49m\u001b[43m \u001b[49m\u001b[43m(\u001b[49m\u001b[43mx\u001b[49m\u001b[43m \u001b[49m\u001b[38;5;241;43m-\u001b[39;49m\u001b[43m \u001b[49m\u001b[43mx\u001b[49m\u001b[38;5;241;43m.\u001b[39;49m\u001b[43mmin\u001b[49m\u001b[43m(\u001b[49m\u001b[43m)\u001b[49m\u001b[43m)\u001b[49m\u001b[38;5;241;43m.\u001b[39;49m\u001b[43mdt\u001b[49m\u001b[38;5;241;43m.\u001b[39;49m\u001b[43mtotal_seconds\u001b[49m\u001b[43m(\u001b[49m\u001b[43m)\u001b[49m\u001b[43m)\u001b[49m\n\u001b[0;32m     19\u001b[0m \u001b[38;5;66;03m# Crear el gráfico de línea con la fecha en el tooltip\u001b[39;00m\n\u001b[0;32m     20\u001b[0m fig \u001b[38;5;241m=\u001b[39m px\u001b[38;5;241m.\u001b[39mline(\n\u001b[0;32m     21\u001b[0m     df_variable,\n\u001b[0;32m     22\u001b[0m     x\u001b[38;5;241m=\u001b[39m\u001b[38;5;124m'\u001b[39m\u001b[38;5;124mDuración\u001b[39m\u001b[38;5;124m'\u001b[39m,\n\u001b[1;32m   (...)\u001b[0m\n\u001b[0;32m     27\u001b[0m     hover_data\u001b[38;5;241m=\u001b[39m{df_variable\u001b[38;5;241m.\u001b[39mindex\u001b[38;5;241m.\u001b[39mname: \u001b[38;5;124m'\u001b[39m\u001b[38;5;124m|\u001b[39m\u001b[38;5;124m%\u001b[39m\u001b[38;5;124mY-\u001b[39m\u001b[38;5;124m%\u001b[39m\u001b[38;5;124mm-\u001b[39m\u001b[38;5;132;01m%d\u001b[39;00m\u001b[38;5;124m \u001b[39m\u001b[38;5;124m%\u001b[39m\u001b[38;5;124mH:\u001b[39m\u001b[38;5;124m%\u001b[39m\u001b[38;5;124mM:\u001b[39m\u001b[38;5;124m%\u001b[39m\u001b[38;5;124mS\u001b[39m\u001b[38;5;124m'\u001b[39m}  \u001b[38;5;66;03m# Formato de la fecha en el pop-up\u001b[39;00m\n\u001b[0;32m     28\u001b[0m )\n",
      "File \u001b[1;32mc:\\Users\\jadurian\\Documents\\CDD\\TG5-Arranques\\.venv\\lib\\site-packages\\pandas\\core\\groupby\\generic.py:517\u001b[0m, in \u001b[0;36mSeriesGroupBy.transform\u001b[1;34m(self, func, engine, engine_kwargs, *args, **kwargs)\u001b[0m\n\u001b[0;32m    514\u001b[0m \u001b[38;5;129m@Substitution\u001b[39m(klass\u001b[38;5;241m=\u001b[39m\u001b[38;5;124m\"\u001b[39m\u001b[38;5;124mSeries\u001b[39m\u001b[38;5;124m\"\u001b[39m, example\u001b[38;5;241m=\u001b[39m__examples_series_doc)\n\u001b[0;32m    515\u001b[0m \u001b[38;5;129m@Appender\u001b[39m(_transform_template)\n\u001b[0;32m    516\u001b[0m \u001b[38;5;28;01mdef\u001b[39;00m \u001b[38;5;21mtransform\u001b[39m(\u001b[38;5;28mself\u001b[39m, func, \u001b[38;5;241m*\u001b[39margs, engine\u001b[38;5;241m=\u001b[39m\u001b[38;5;28;01mNone\u001b[39;00m, engine_kwargs\u001b[38;5;241m=\u001b[39m\u001b[38;5;28;01mNone\u001b[39;00m, \u001b[38;5;241m*\u001b[39m\u001b[38;5;241m*\u001b[39mkwargs):\n\u001b[1;32m--> 517\u001b[0m     \u001b[38;5;28;01mreturn\u001b[39;00m \u001b[38;5;28mself\u001b[39m\u001b[38;5;241m.\u001b[39m_transform(\n\u001b[0;32m    518\u001b[0m         func, \u001b[38;5;241m*\u001b[39margs, engine\u001b[38;5;241m=\u001b[39mengine, engine_kwargs\u001b[38;5;241m=\u001b[39mengine_kwargs, \u001b[38;5;241m*\u001b[39m\u001b[38;5;241m*\u001b[39mkwargs\n\u001b[0;32m    519\u001b[0m     )\n",
      "File \u001b[1;32mc:\\Users\\jadurian\\Documents\\CDD\\TG5-Arranques\\.venv\\lib\\site-packages\\pandas\\core\\groupby\\groupby.py:2021\u001b[0m, in \u001b[0;36mGroupBy._transform\u001b[1;34m(self, func, engine, engine_kwargs, *args, **kwargs)\u001b[0m\n\u001b[0;32m   2018\u001b[0m     warn_alias_replacement(\u001b[38;5;28mself\u001b[39m, orig_func, func)\n\u001b[0;32m   2020\u001b[0m \u001b[38;5;28;01mif\u001b[39;00m \u001b[38;5;129;01mnot\u001b[39;00m \u001b[38;5;28misinstance\u001b[39m(func, \u001b[38;5;28mstr\u001b[39m):\n\u001b[1;32m-> 2021\u001b[0m     \u001b[38;5;28;01mreturn\u001b[39;00m \u001b[38;5;28mself\u001b[39m\u001b[38;5;241m.\u001b[39m_transform_general(func, engine, engine_kwargs, \u001b[38;5;241m*\u001b[39margs, \u001b[38;5;241m*\u001b[39m\u001b[38;5;241m*\u001b[39mkwargs)\n\u001b[0;32m   2023\u001b[0m \u001b[38;5;28;01melif\u001b[39;00m func \u001b[38;5;129;01mnot\u001b[39;00m \u001b[38;5;129;01min\u001b[39;00m base\u001b[38;5;241m.\u001b[39mtransform_kernel_allowlist:\n\u001b[0;32m   2024\u001b[0m     msg \u001b[38;5;241m=\u001b[39m \u001b[38;5;124mf\u001b[39m\u001b[38;5;124m\"\u001b[39m\u001b[38;5;124m'\u001b[39m\u001b[38;5;132;01m{\u001b[39;00mfunc\u001b[38;5;132;01m}\u001b[39;00m\u001b[38;5;124m'\u001b[39m\u001b[38;5;124m is not a valid function name for transform(name)\u001b[39m\u001b[38;5;124m\"\u001b[39m\n",
      "File \u001b[1;32mc:\\Users\\jadurian\\Documents\\CDD\\TG5-Arranques\\.venv\\lib\\site-packages\\pandas\\core\\groupby\\generic.py:557\u001b[0m, in \u001b[0;36mSeriesGroupBy._transform_general\u001b[1;34m(self, func, engine, engine_kwargs, *args, **kwargs)\u001b[0m\n\u001b[0;32m    552\u001b[0m \u001b[38;5;28;01mfor\u001b[39;00m name, group \u001b[38;5;129;01min\u001b[39;00m \u001b[38;5;28mself\u001b[39m\u001b[38;5;241m.\u001b[39m_grouper\u001b[38;5;241m.\u001b[39mget_iterator(\n\u001b[0;32m    553\u001b[0m     \u001b[38;5;28mself\u001b[39m\u001b[38;5;241m.\u001b[39m_obj_with_exclusions, axis\u001b[38;5;241m=\u001b[39m\u001b[38;5;28mself\u001b[39m\u001b[38;5;241m.\u001b[39maxis\n\u001b[0;32m    554\u001b[0m ):\n\u001b[0;32m    555\u001b[0m     \u001b[38;5;66;03m# this setattr is needed for test_transform_lambda_with_datetimetz\u001b[39;00m\n\u001b[0;32m    556\u001b[0m     \u001b[38;5;28mobject\u001b[39m\u001b[38;5;241m.\u001b[39m\u001b[38;5;21m__setattr__\u001b[39m(group, \u001b[38;5;124m\"\u001b[39m\u001b[38;5;124mname\u001b[39m\u001b[38;5;124m\"\u001b[39m, name)\n\u001b[1;32m--> 557\u001b[0m     res \u001b[38;5;241m=\u001b[39m func(group, \u001b[38;5;241m*\u001b[39margs, \u001b[38;5;241m*\u001b[39m\u001b[38;5;241m*\u001b[39mkwargs)\n\u001b[0;32m    559\u001b[0m     results\u001b[38;5;241m.\u001b[39mappend(klass(res, index\u001b[38;5;241m=\u001b[39mgroup\u001b[38;5;241m.\u001b[39mindex))\n\u001b[0;32m    561\u001b[0m \u001b[38;5;66;03m# check for empty \"results\" to avoid concat ValueError\u001b[39;00m\n",
      "Cell \u001b[1;32mIn[34], line 18\u001b[0m, in \u001b[0;36m<lambda>\u001b[1;34m(x)\u001b[0m\n\u001b[0;32m     16\u001b[0m df_variable \u001b[38;5;241m=\u001b[39m df_variable\u001b[38;5;241m.\u001b[39msort_values(by\u001b[38;5;241m=\u001b[39m[\u001b[38;5;124m'\u001b[39m\u001b[38;5;124mNúmero de Arranque\u001b[39m\u001b[38;5;124m'\u001b[39m])\u001b[38;5;241m.\u001b[39msort_index()\n\u001b[0;32m     17\u001b[0m \u001b[38;5;66;03m#df_variable['Duración'] = df_variable.groupby('Número de Arranque').apply(lambda x: (x.index - x.index.min()).total_seconds())\u001b[39;00m\n\u001b[1;32m---> 18\u001b[0m df_variable[\u001b[38;5;124m'\u001b[39m\u001b[38;5;124mDuración\u001b[39m\u001b[38;5;124m'\u001b[39m] \u001b[38;5;241m=\u001b[39m df_variable\u001b[38;5;241m.\u001b[39mgroupby(\u001b[38;5;124m'\u001b[39m\u001b[38;5;124mNúmero de Arranque\u001b[39m\u001b[38;5;124m'\u001b[39m)[\u001b[38;5;124m'\u001b[39m\u001b[38;5;124mTimestamp\u001b[39m\u001b[38;5;124m'\u001b[39m]\u001b[38;5;241m.\u001b[39mtransform(\u001b[38;5;28;01mlambda\u001b[39;00m x: (\u001b[43mx\u001b[49m\u001b[43m \u001b[49m\u001b[38;5;241;43m-\u001b[39;49m\u001b[43m \u001b[49m\u001b[43mx\u001b[49m\u001b[38;5;241;43m.\u001b[39;49m\u001b[43mmin\u001b[49m\u001b[43m(\u001b[49m\u001b[43m)\u001b[49m)\u001b[38;5;241m.\u001b[39mdt\u001b[38;5;241m.\u001b[39mtotal_seconds())\n\u001b[0;32m     19\u001b[0m \u001b[38;5;66;03m# Crear el gráfico de línea con la fecha en el tooltip\u001b[39;00m\n\u001b[0;32m     20\u001b[0m fig \u001b[38;5;241m=\u001b[39m px\u001b[38;5;241m.\u001b[39mline(\n\u001b[0;32m     21\u001b[0m     df_variable,\n\u001b[0;32m     22\u001b[0m     x\u001b[38;5;241m=\u001b[39m\u001b[38;5;124m'\u001b[39m\u001b[38;5;124mDuración\u001b[39m\u001b[38;5;124m'\u001b[39m,\n\u001b[1;32m   (...)\u001b[0m\n\u001b[0;32m     27\u001b[0m     hover_data\u001b[38;5;241m=\u001b[39m{df_variable\u001b[38;5;241m.\u001b[39mindex\u001b[38;5;241m.\u001b[39mname: \u001b[38;5;124m'\u001b[39m\u001b[38;5;124m|\u001b[39m\u001b[38;5;124m%\u001b[39m\u001b[38;5;124mY-\u001b[39m\u001b[38;5;124m%\u001b[39m\u001b[38;5;124mm-\u001b[39m\u001b[38;5;132;01m%d\u001b[39;00m\u001b[38;5;124m \u001b[39m\u001b[38;5;124m%\u001b[39m\u001b[38;5;124mH:\u001b[39m\u001b[38;5;124m%\u001b[39m\u001b[38;5;124mM:\u001b[39m\u001b[38;5;124m%\u001b[39m\u001b[38;5;124mS\u001b[39m\u001b[38;5;124m'\u001b[39m}  \u001b[38;5;66;03m# Formato de la fecha en el pop-up\u001b[39;00m\n\u001b[0;32m     28\u001b[0m )\n",
      "File \u001b[1;32mc:\\Users\\jadurian\\Documents\\CDD\\TG5-Arranques\\.venv\\lib\\site-packages\\pandas\\core\\ops\\common.py:76\u001b[0m, in \u001b[0;36m_unpack_zerodim_and_defer.<locals>.new_method\u001b[1;34m(self, other)\u001b[0m\n\u001b[0;32m     72\u001b[0m             \u001b[38;5;28;01mreturn\u001b[39;00m \u001b[38;5;28mNotImplemented\u001b[39m\n\u001b[0;32m     74\u001b[0m other \u001b[38;5;241m=\u001b[39m item_from_zerodim(other)\n\u001b[1;32m---> 76\u001b[0m \u001b[38;5;28;01mreturn\u001b[39;00m \u001b[43mmethod\u001b[49m\u001b[43m(\u001b[49m\u001b[38;5;28;43mself\u001b[39;49m\u001b[43m,\u001b[49m\u001b[43m \u001b[49m\u001b[43mother\u001b[49m\u001b[43m)\u001b[49m\n",
      "File \u001b[1;32mc:\\Users\\jadurian\\Documents\\CDD\\TG5-Arranques\\.venv\\lib\\site-packages\\pandas\\core\\arraylike.py:194\u001b[0m, in \u001b[0;36mOpsMixin.__sub__\u001b[1;34m(self, other)\u001b[0m\n\u001b[0;32m    192\u001b[0m \u001b[38;5;129m@unpack_zerodim_and_defer\u001b[39m(\u001b[38;5;124m\"\u001b[39m\u001b[38;5;124m__sub__\u001b[39m\u001b[38;5;124m\"\u001b[39m)\n\u001b[0;32m    193\u001b[0m \u001b[38;5;28;01mdef\u001b[39;00m \u001b[38;5;21m__sub__\u001b[39m(\u001b[38;5;28mself\u001b[39m, other):\n\u001b[1;32m--> 194\u001b[0m     \u001b[38;5;28;01mreturn\u001b[39;00m \u001b[38;5;28;43mself\u001b[39;49m\u001b[38;5;241;43m.\u001b[39;49m\u001b[43m_arith_method\u001b[49m\u001b[43m(\u001b[49m\u001b[43mother\u001b[49m\u001b[43m,\u001b[49m\u001b[43m \u001b[49m\u001b[43moperator\u001b[49m\u001b[38;5;241;43m.\u001b[39;49m\u001b[43msub\u001b[49m\u001b[43m)\u001b[49m\n",
      "File \u001b[1;32mc:\\Users\\jadurian\\Documents\\CDD\\TG5-Arranques\\.venv\\lib\\site-packages\\pandas\\core\\series.py:6135\u001b[0m, in \u001b[0;36mSeries._arith_method\u001b[1;34m(self, other, op)\u001b[0m\n\u001b[0;32m   6133\u001b[0m \u001b[38;5;28;01mdef\u001b[39;00m \u001b[38;5;21m_arith_method\u001b[39m(\u001b[38;5;28mself\u001b[39m, other, op):\n\u001b[0;32m   6134\u001b[0m     \u001b[38;5;28mself\u001b[39m, other \u001b[38;5;241m=\u001b[39m \u001b[38;5;28mself\u001b[39m\u001b[38;5;241m.\u001b[39m_align_for_op(other)\n\u001b[1;32m-> 6135\u001b[0m     \u001b[38;5;28;01mreturn\u001b[39;00m \u001b[43mbase\u001b[49m\u001b[38;5;241;43m.\u001b[39;49m\u001b[43mIndexOpsMixin\u001b[49m\u001b[38;5;241;43m.\u001b[39;49m\u001b[43m_arith_method\u001b[49m\u001b[43m(\u001b[49m\u001b[38;5;28;43mself\u001b[39;49m\u001b[43m,\u001b[49m\u001b[43m \u001b[49m\u001b[43mother\u001b[49m\u001b[43m,\u001b[49m\u001b[43m \u001b[49m\u001b[43mop\u001b[49m\u001b[43m)\u001b[49m\n",
      "File \u001b[1;32mc:\\Users\\jadurian\\Documents\\CDD\\TG5-Arranques\\.venv\\lib\\site-packages\\pandas\\core\\base.py:1382\u001b[0m, in \u001b[0;36mIndexOpsMixin._arith_method\u001b[1;34m(self, other, op)\u001b[0m\n\u001b[0;32m   1379\u001b[0m     rvalues \u001b[38;5;241m=\u001b[39m np\u001b[38;5;241m.\u001b[39marange(rvalues\u001b[38;5;241m.\u001b[39mstart, rvalues\u001b[38;5;241m.\u001b[39mstop, rvalues\u001b[38;5;241m.\u001b[39mstep)\n\u001b[0;32m   1381\u001b[0m \u001b[38;5;28;01mwith\u001b[39;00m np\u001b[38;5;241m.\u001b[39merrstate(\u001b[38;5;28mall\u001b[39m\u001b[38;5;241m=\u001b[39m\u001b[38;5;124m\"\u001b[39m\u001b[38;5;124mignore\u001b[39m\u001b[38;5;124m\"\u001b[39m):\n\u001b[1;32m-> 1382\u001b[0m     result \u001b[38;5;241m=\u001b[39m \u001b[43mops\u001b[49m\u001b[38;5;241;43m.\u001b[39;49m\u001b[43marithmetic_op\u001b[49m\u001b[43m(\u001b[49m\u001b[43mlvalues\u001b[49m\u001b[43m,\u001b[49m\u001b[43m \u001b[49m\u001b[43mrvalues\u001b[49m\u001b[43m,\u001b[49m\u001b[43m \u001b[49m\u001b[43mop\u001b[49m\u001b[43m)\u001b[49m\n\u001b[0;32m   1384\u001b[0m \u001b[38;5;28;01mreturn\u001b[39;00m \u001b[38;5;28mself\u001b[39m\u001b[38;5;241m.\u001b[39m_construct_result(result, name\u001b[38;5;241m=\u001b[39mres_name)\n",
      "File \u001b[1;32mc:\\Users\\jadurian\\Documents\\CDD\\TG5-Arranques\\.venv\\lib\\site-packages\\pandas\\core\\ops\\array_ops.py:283\u001b[0m, in \u001b[0;36marithmetic_op\u001b[1;34m(left, right, op)\u001b[0m\n\u001b[0;32m    279\u001b[0m     _bool_arith_check(op, left, right)  \u001b[38;5;66;03m# type: ignore[arg-type]\u001b[39;00m\n\u001b[0;32m    281\u001b[0m     \u001b[38;5;66;03m# error: Argument 1 to \"_na_arithmetic_op\" has incompatible type\u001b[39;00m\n\u001b[0;32m    282\u001b[0m     \u001b[38;5;66;03m# \"Union[ExtensionArray, ndarray[Any, Any]]\"; expected \"ndarray[Any, Any]\"\u001b[39;00m\n\u001b[1;32m--> 283\u001b[0m     res_values \u001b[38;5;241m=\u001b[39m \u001b[43m_na_arithmetic_op\u001b[49m\u001b[43m(\u001b[49m\u001b[43mleft\u001b[49m\u001b[43m,\u001b[49m\u001b[43m \u001b[49m\u001b[43mright\u001b[49m\u001b[43m,\u001b[49m\u001b[43m \u001b[49m\u001b[43mop\u001b[49m\u001b[43m)\u001b[49m  \u001b[38;5;66;03m# type: ignore[arg-type]\u001b[39;00m\n\u001b[0;32m    285\u001b[0m \u001b[38;5;28;01mreturn\u001b[39;00m res_values\n",
      "File \u001b[1;32mc:\\Users\\jadurian\\Documents\\CDD\\TG5-Arranques\\.venv\\lib\\site-packages\\pandas\\core\\ops\\array_ops.py:227\u001b[0m, in \u001b[0;36m_na_arithmetic_op\u001b[1;34m(left, right, op, is_cmp)\u001b[0m\n\u001b[0;32m    219\u001b[0m \u001b[38;5;28;01mexcept\u001b[39;00m \u001b[38;5;167;01mTypeError\u001b[39;00m:\n\u001b[0;32m    220\u001b[0m     \u001b[38;5;28;01mif\u001b[39;00m \u001b[38;5;129;01mnot\u001b[39;00m is_cmp \u001b[38;5;129;01mand\u001b[39;00m (\n\u001b[0;32m    221\u001b[0m         left\u001b[38;5;241m.\u001b[39mdtype \u001b[38;5;241m==\u001b[39m \u001b[38;5;28mobject\u001b[39m \u001b[38;5;129;01mor\u001b[39;00m \u001b[38;5;28mgetattr\u001b[39m(right, \u001b[38;5;124m\"\u001b[39m\u001b[38;5;124mdtype\u001b[39m\u001b[38;5;124m\"\u001b[39m, \u001b[38;5;28;01mNone\u001b[39;00m) \u001b[38;5;241m==\u001b[39m \u001b[38;5;28mobject\u001b[39m\n\u001b[0;32m    222\u001b[0m     ):\n\u001b[1;32m   (...)\u001b[0m\n\u001b[0;32m    225\u001b[0m         \u001b[38;5;66;03m# Don't do this for comparisons, as that will handle complex numbers\u001b[39;00m\n\u001b[0;32m    226\u001b[0m         \u001b[38;5;66;03m#  incorrectly, see GH#32047\u001b[39;00m\n\u001b[1;32m--> 227\u001b[0m         result \u001b[38;5;241m=\u001b[39m \u001b[43m_masked_arith_op\u001b[49m\u001b[43m(\u001b[49m\u001b[43mleft\u001b[49m\u001b[43m,\u001b[49m\u001b[43m \u001b[49m\u001b[43mright\u001b[49m\u001b[43m,\u001b[49m\u001b[43m \u001b[49m\u001b[43mop\u001b[49m\u001b[43m)\u001b[49m\n\u001b[0;32m    228\u001b[0m     \u001b[38;5;28;01melse\u001b[39;00m:\n\u001b[0;32m    229\u001b[0m         \u001b[38;5;28;01mraise\u001b[39;00m\n",
      "File \u001b[1;32mc:\\Users\\jadurian\\Documents\\CDD\\TG5-Arranques\\.venv\\lib\\site-packages\\pandas\\core\\ops\\array_ops.py:182\u001b[0m, in \u001b[0;36m_masked_arith_op\u001b[1;34m(x, y, op)\u001b[0m\n\u001b[0;32m    179\u001b[0m         mask \u001b[38;5;241m=\u001b[39m np\u001b[38;5;241m.\u001b[39mwhere(y \u001b[38;5;241m==\u001b[39m \u001b[38;5;241m1\u001b[39m, \u001b[38;5;28;01mFalse\u001b[39;00m, mask)\n\u001b[0;32m    181\u001b[0m     \u001b[38;5;28;01mif\u001b[39;00m mask\u001b[38;5;241m.\u001b[39many():\n\u001b[1;32m--> 182\u001b[0m         result[mask] \u001b[38;5;241m=\u001b[39m \u001b[43mop\u001b[49m\u001b[43m(\u001b[49m\u001b[43mxrav\u001b[49m\u001b[43m[\u001b[49m\u001b[43mmask\u001b[49m\u001b[43m]\u001b[49m\u001b[43m,\u001b[49m\u001b[43m \u001b[49m\u001b[43my\u001b[49m\u001b[43m)\u001b[49m\n\u001b[0;32m    184\u001b[0m np\u001b[38;5;241m.\u001b[39mputmask(result, \u001b[38;5;241m~\u001b[39mmask, np\u001b[38;5;241m.\u001b[39mnan)\n\u001b[0;32m    185\u001b[0m result \u001b[38;5;241m=\u001b[39m result\u001b[38;5;241m.\u001b[39mreshape(x\u001b[38;5;241m.\u001b[39mshape)  \u001b[38;5;66;03m# 2D compat\u001b[39;00m\n",
      "\u001b[1;31mTypeError\u001b[0m: unsupported operand type(s) for -: 'str' and 'str'"
     ]
    }
   ],
   "source": [
    "import plotly.express as px\n",
    "import plotly.io as pio\n",
    "\n",
    "# Lista de nombres únicos de variables en la columna TG05\n",
    "variables_vibracion = df_final['*TG05*'].unique()\n",
    "\n",
    "# Lista para almacenar las figuras\n",
    "figuras = []\n",
    "\n",
    "# Iterar sobre cada variable de vibración y crear un gráfico individual\n",
    "for variable in variables_vibracion:\n",
    "    # Filtrar el dataframe para la variable actual\n",
    "    df_variable = df_final[df_final['*TG05*'] == variable]\n",
    "\n",
    "    # Calcular la duración (tiempo transcurrido en segundos) para cada registro dentro de cada arranque\n",
    "    df_variable = df_variable.sort_values(by=['Número de Arranque']).sort_index()\n",
    "    #df_variable['Duración'] = df_variable.groupby('Número de Arranque').apply(lambda x: (x.index - x.index.min()).total_seconds())\n",
    "    df_variable['Duración'] = df_variable.groupby('Número de Arranque')['Timestamp'].transform(lambda x: (x - x.min()).dt.total_seconds())\n",
    "    # Crear el gráfico de línea con la fecha en el tooltip\n",
    "    fig = px.line(\n",
    "        df_variable,\n",
    "        x='Duración',\n",
    "        y='Variable',\n",
    "        color='Número de Arranque',\n",
    "        markers=True,\n",
    "        labels={'Número de Arranque': 'Número de Arranque', 'Duración': 'Tiempo (segundos)', 'Variable': 'Vibración'},\n",
    "        hover_data={df_variable.index.name: '|%Y-%m-%d %H:%M:%S'}  # Formato de la fecha en el pop-up\n",
    "    )\n",
    "\n",
    "    # Personalizar la apariencia de las líneas\n",
    "    for trace in fig['data']:\n",
    "        if trace.name == '1':  # Si el número de arranque es 1\n",
    "            trace.line.color = 'red'  # Línea roja\n",
    "            trace.marker.symbol = 'triangle-up'  # Marcador triángulo hacia arriba\n",
    "        else:  # Para otros números de arranque\n",
    "            trace.line.dash = 'dash'  # Línea punteada\n",
    "\n",
    "    # Ajustar el layout y los títulos\n",
    "    fig.update_layout(title=f'Comportamiento de {variable} en cada arranque', showlegend=True)\n",
    "\n",
    "    # Configurar el eje x para mostrar segundos\n",
    "    fig.update_xaxes(title_text=\"Tiempo de Duración (segundos)\",\n",
    "                     tickformat=',.0f')  # Formato con cero decimales\n",
    "\n",
    "    # Añadir la figura a la lista\n",
    "    figuras.append(fig)\n",
    "\n",
    "# Exportar todas las figuras a un solo archivo HTML\n",
    "with open(\"figuras_vibraciones_duracion.html\", \"a\") as f:\n",
    "    for fig in figuras:\n",
    "        f.write(fig.to_html(full_html=False, include_plotlyjs='cdn'))\n",
    "        f.write('<br><hr><br>')  # Añadir una separación entre gráficos\n",
    "\n",
    "print(\"Archivo HTML guardado como 'figuras_vibraciones_duracion.html'\")\n"
   ]
  },
  {
   "cell_type": "code",
   "execution_count": null,
   "metadata": {},
   "outputs": [],
   "source": [
    "import plotly.express as px\n",
    "import plotly.io as pio\n",
    "from plotly.subplots import make_subplots\n",
    "\n",
    "# Lista de nombres únicos de variables en la columna TG05\n",
    "variables_vibracion = df_final['*TG05*'].unique()\n",
    "\n",
    "# Crear una figura de subgráficos que contenga todos los gráficos\n",
    "fig = make_subplots(rows=len(variables_vibracion), cols=1, shared_xaxes=True,\n",
    "                    subplot_titles=[f'Comportamiento de {variable} en cada arranque' for variable in variables_vibracion])\n",
    "\n",
    "# Iterar sobre cada variable de vibración y crear un gráfico\n",
    "for i, variable in enumerate(variables_vibracion):\n",
    "    # Filtrar el dataframe para la variable actual\n",
    "    df_variable = df_final[df_final['*TG05*'] == variable]\n",
    "\n",
    "    # Calcular la duración (tiempo transcurrido en segundos) para cada registro dentro de cada arranque\n",
    "    df_variable = df_variable.sort_values(by=['Número de Arranque']).sort_index()\n",
    "    df_variable['Duración'] = df_variable.groupby('Número de Arranque').apply(lambda x: (x.index - x.index.min()).total_seconds())\n",
    "\n",
    "    # Crear el gráfico de línea con la fecha en el tooltip\n",
    "    fig_aux = px.line(\n",
    "        df_variable,\n",
    "        x='Duración',\n",
    "        y='Variable',\n",
    "        color='Número de Arranque',\n",
    "        markers=True,\n",
    "        labels={'Número de Arranque': 'Número de Arranque', 'Duración': 'Tiempo (segundos)', 'Variable': 'Vibración'},\n",
    "        hover_data={df_variable.index.name: '|%Y-%m-%d %H:%M:%S'}  # Formato de la fecha en el pop-up\n",
    "    )\n",
    "\n",
    "    # Personalizar la apariencia de las líneas\n",
    "    for trace in fig_aux['data']:\n",
    "        if trace.name == '1':  # Si el número de arranque es 1\n",
    "            trace.line.color = 'red'  # Línea roja\n",
    "            trace.marker.symbol = 'triangle-up'  # Marcador triángulo hacia arriba\n",
    "        else:  # Para otros números de arranque\n",
    "            trace.line.dash = 'dash'  # Línea punteada\n",
    "\n",
    "    # Añadir el gráfico al subplot\n",
    "    for trace in fig_aux['data']:\n",
    "        fig.add_trace(trace, row=i+1, col=1)\n",
    "\n",
    "# Ajustar el layout y los títulos\n",
    "fig.update_layout(height=350*len(variables_vibracion), showlegend=True)\n",
    "\n",
    "# Configurar el eje x para mostrar segundos\n",
    "fig.update_xaxes(title_text=\"Tiempo de Duración (segundos)\",\n",
    "                tickformat=',.0f')  # Formato con cero decimales\n",
    "\n",
    "# Guardar la figura completa en un archivo HTML\n",
    "pio.write_html(fig, file='arranques_duracion_2.html')\n"
   ]
  },
  {
   "cell_type": "code",
   "execution_count": null,
   "metadata": {},
   "outputs": [],
   "source": [
    "import plotly.express as px\n",
    "import plotly.io as pio\n",
    "from plotly.subplots import make_subplots\n",
    "\n",
    "# Lista de nombres únicos de variables en la columna TG05\n",
    "variables_vibracion = df_final['*TG05*'].unique()\n",
    "\n",
    "# Crear una figura de subgráficos que contenga todos los gráficos\n",
    "fig = make_subplots(\n",
    "    rows=len(variables_vibracion), cols=1, shared_xaxes=True,\n",
    "    subplot_titles=[f'Comportamiento de {variable} en cada arranque' for variable in variables_vibracion]\n",
    ")\n",
    "\n",
    "# Iterar sobre cada variable de vibración y crear un gráfico\n",
    "for i, variable in enumerate(variables_vibracion):\n",
    "    # Filtrar el dataframe para la variable actual\n",
    "    df_variable = df_final[df_final['*TG05*'] == variable]\n",
    "    \n",
    "    # Crear el gráfico de líneas sin leyenda\n",
    "    fig_aux = px.line(\n",
    "        df_variable,\n",
    "        x=df_variable.index,\n",
    "        y='Variable',\n",
    "        color='Número de Arranque',\n",
    "        markers=True,\n",
    "        labels={'Numero_Arranque': 'Número de Arranque', 'Fecha': 'Tiempo', 'Variable': 'Vibración'}\n",
    "    )\n",
    "    \n",
    "    # Añadir el gráfico al subplot, ocultando la leyenda individual\n",
    "    for trace in fig_aux['data']:\n",
    "        trace.update(showlegend=(i == 0))  # Mostrar la leyenda solo en el primer subplot\n",
    "        fig.add_trace(trace, row=i+1, col=1)\n",
    "\n",
    "# Ajustar el layout y los títulos\n",
    "fig.update_layout(\n",
    "    height=300*len(variables_vibracion), \n",
    "    showlegend=True,\n",
    "    legend_title_text='Número de Arranque'\n",
    ")\n",
    "fig.update_xaxes(title_text=\"Tiempo\", row=len(variables_vibracion), col=1)\n",
    "\n",
    "# Guardar la figura completa en un archivo HTML\n",
    "pio.write_html(fig, file='todos_los_arranques_2.html')\n",
    "\n",
    "# Mostrar la figura\n",
    "fig.show()\n"
   ]
  },
  {
   "cell_type": "code",
   "execution_count": null,
   "metadata": {},
   "outputs": [],
   "source": [
    "# Grafico en una misma linea temporal todos los arranques\n",
    "import pandas as pd\n",
    "import plotly.express as px\n",
    " \n",
    "# Supongamos que tienes tu dataset en un DataFrame llamado 'df_final'\n",
    "# df_final = pd.read_csv('tu_archivo.csv')\n",
    " \n",
    "# Convertimos la columna \"Estampa de Tiempo\" a datetime\n",
    "df_final['Estampa de Tiempo'] = pd.to_datetime(df_final['Estampa de Tiempo'])\n",
    " \n",
    "# Normalizamos las estampas de tiempo a un rango de 0 a 9000\n",
    "min_time_global = df_final['Estampa de Tiempo'].min()\n",
    "max_time_global = df_final['Estampa de Tiempo'].max()\n",
    " \n",
    "# Mapeamos todas las estampas de tiempo al rango 0-9000\n",
    "df_final['ESTAMPA_NORMALIZADA'] = (\n",
    "    (df_final['Estampa de Tiempo'] - min_time_global).dt.total_seconds() /\n",
    "    (max_time_global - min_time_global).total_seconds() * 9000\n",
    ")\n",
    " \n",
    "# Ahora generamos un gráfico de líneas para cada valor único de *TG05*\n",
    "for tg_value in df_final['*TG05*'].unique():\n",
    "    df_tg = df_final[df_final['*TG05*'] == tg_value]\n",
    "    fig = px.line(df_tg, x='ESTAMPA_NORMALIZADA', y='Variable',\n",
    "                  color='Número de Arranque',\n",
    "                  title=f'Gráfico para *TG05* = {tg_value}',\n",
    "                  labels={'ESTAMPA_NORMALIZADA': 'Tiempo Normalizado (0-9000)'})\n",
    "    fig.show()\n",
    "\n",
    " \n",
    " # Exportar todas las figuras a un solo archivo HTML\n",
    "#with open(\"vibraciones_temporal.html\", \"a\") as f:\n",
    "#    for fig in figuras:\n",
    "#        f.write(fig.to_html(full_html=False, include_plotlyjs='cdn'))\n",
    "#        f.write('<br><hr><br>')  # Añadir una separación entre gráficos\n",
    "\n",
    "#print(\"Archivo HTML guardado como 'vibraciones_temporal.html'\")\n"
   ]
  }
 ],
 "metadata": {
  "kernelspec": {
   "display_name": "AEROS_PITCH",
   "language": "python",
   "name": "python3"
  },
  "language_info": {
   "codemirror_mode": {
    "name": "ipython",
    "version": 3
   },
   "file_extension": ".py",
   "mimetype": "text/x-python",
   "name": "python",
   "nbconvert_exporter": "python",
   "pygments_lexer": "ipython3",
   "version": "3.9.13"
  }
 },
 "nbformat": 4,
 "nbformat_minor": 2
}
